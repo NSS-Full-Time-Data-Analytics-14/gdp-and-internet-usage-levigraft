{
 "cells": [
  {
   "cell_type": "code",
   "execution_count": null,
   "id": "5d987db2-6263-4583-9a50-c43eb87df10d",
   "metadata": {},
   "outputs": [],
   "source": [
    "import pandas as pd \n",
    "import numpy as np  \n",
    "import matplotlib.pyplot as plt \n",
    "import seaborn as sns"
   ]
  },
  {
   "cell_type": "markdown",
   "id": "b838a58f-7192-4aab-92ee-2b9a756417e3",
   "metadata": {},
   "source": [
    "#5"
   ]
  },
  {
   "cell_type": "code",
   "execution_count": null,
   "id": "991e3f13-25b3-4203-abd7-e3d4592e602f",
   "metadata": {},
   "outputs": [],
   "source": [
    "gdp_df = pd.read_csv('../data/gdp_percapita.csv')\n",
    "gdp_df"
   ]
  },
  {
   "cell_type": "code",
   "execution_count": null,
   "id": "cdfc5a12-5fb5-47bb-a8f2-f1f1d5dbf5e5",
   "metadata": {},
   "outputs": [],
   "source": [
    "datatypes = gdp_df.dtypes\n",
    "datatypes"
   ]
  },
  {
   "cell_type": "markdown",
   "id": "c6b0eb65-8aaa-4d2a-b844-0e1582ef6506",
   "metadata": {},
   "source": [
    "#6"
   ]
  },
  {
   "cell_type": "code",
   "execution_count": null,
   "id": "48c32b11-483b-4882-bae2-fc164722a5b3",
   "metadata": {},
   "outputs": [],
   "source": [
    "gdp_df = gdp_df.drop(columns=['Value Footnotes'])\n",
    "gdp_df\n"
   ]
  },
  {
   "cell_type": "code",
   "execution_count": null,
   "id": "004208ee-d063-4f01-9afc-acc96e223aab",
   "metadata": {},
   "outputs": [],
   "source": [
    "gdp_df = gdp_df.rename(columns={'Country or Area':'Country', 'Value':'GDP_Per_Capita'})\n",
    "gdp_df"
   ]
  },
  {
   "cell_type": "markdown",
   "id": "cdc8097f-a955-4d85-839a-3044c9a92d75",
   "metadata": {},
   "source": [
    "7. How many countries have data for all years? Which countries are missing many years of data? Look at the number of observations per year. What do you notice?"
   ]
  },
  {
   "cell_type": "code",
   "execution_count": null,
   "id": "393ab86f-a36d-41c8-9492-ec4dc9d0fce9",
   "metadata": {},
   "outputs": [],
   "source": [
    "gdp_country_count = gdp_df.Country.value_counts()\n",
    "gdp_country_count = gdp_country_count.to_frame()\n",
    "gdp_country_count"
   ]
  },
  {
   "cell_type": "code",
   "execution_count": null,
   "id": "9df0988f-01c6-4a78-abd8-ad68a9579c58",
   "metadata": {},
   "outputs": [],
   "source": [
    "len(gdp_country_count[gdp_country_count['count'] == 33])"
   ]
  },
  {
   "cell_type": "code",
   "execution_count": null,
   "id": "3733a253-52b1-4568-9126-cac6c436bf81",
   "metadata": {},
   "outputs": [],
   "source": [
    "len(gdp_country_count[gdp_country_count['count'] < 33])"
   ]
  },
  {
   "cell_type": "code",
   "execution_count": null,
   "id": "7883df84-a17e-4ba0-bd6f-6197ec110ec5",
   "metadata": {},
   "outputs": [],
   "source": [
    "gdp_country_count.tail(40)"
   ]
  },
  {
   "cell_type": "markdown",
   "id": "c16bfbd7-4d4f-4f89-bc73-f16e97f77ce6",
   "metadata": {},
   "source": [
    "8.In this question, you're going to create some plots to show the distribution of GDP per capita for the year 2020. Go to the Python Graph Gallery (https://www.python-graph-gallery.com/) and look at the different types of plots under the Distribution section. Create a histogram, a density plot, a boxplot, and a violin plot. What do you notice when you look at these plots? How do the plots compare and what information can you get out of one type that you can't necessarily get out of the others?"
   ]
  },
  {
   "cell_type": "code",
   "execution_count": null,
   "id": "c56123b4-268f-4f8e-8ecc-831efd595c17",
   "metadata": {},
   "outputs": [],
   "source": [
    "twentytwenty_gdp_df = gdp_df.loc[gdp_df.Year == 2020]\n",
    "twentytwenty_gdp_df"
   ]
  },
  {
   "cell_type": "code",
   "execution_count": null,
   "id": "5356ba88-d3ce-4443-8e5b-73186638ab47",
   "metadata": {},
   "outputs": [],
   "source": [
    "# libraries & dataset\n",
    "import seaborn as sns\n",
    "import matplotlib.pyplot as plt\n",
    "  \n",
    "sns.set_theme(style=\"darkgrid\")\n",
    "\n",
    "sns.histplot(twentytwenty_gdp_df.GDP_Per_Capita)\n",
    "plt.show()\n",
    "\n",
    "  \n",
    "\n",
    "\n"
   ]
  },
  {
   "cell_type": "code",
   "execution_count": null,
   "id": "87fdc574-674a-42e7-a516-2e16e2810080",
   "metadata": {},
   "outputs": [],
   "source": []
  },
  {
   "cell_type": "code",
   "execution_count": null,
   "id": "e644ae84-1da8-41bc-a7fd-b3bb87167b94",
   "metadata": {
    "scrolled": true
   },
   "outputs": [],
   "source": [
    "sns.set_theme(style=\"darkgrid\")\n",
    " \n",
    "# Make default density plot\n",
    "sns.kdeplot(twentytwenty_gdp_df.GDP_Per_Capita)\n",
    "plt.show()"
   ]
  },
  {
   "cell_type": "code",
   "execution_count": null,
   "id": "ff3c3c4b-b369-4d16-a93f-e2216d8217ee",
   "metadata": {},
   "outputs": [],
   "source": [
    "sns.set_theme(style=\"darkgrid\")\n",
    "\n",
    "sns.boxplot(twentytwenty_gdp_df.GDP_Per_Capita)\n",
    "plt.show()"
   ]
  },
  {
   "cell_type": "code",
   "execution_count": null,
   "id": "f3be6bbc-d606-4507-a86a-c527ab829ab4",
   "metadata": {},
   "outputs": [],
   "source": [
    "sns.set_theme(style=\"darkgrid\")\n",
    "\n",
    "sns.violinplot(twentytwenty_gdp_df['GDP_Per_Capita'])\n",
    "plt.show()"
   ]
  },
  {
   "cell_type": "markdown",
   "id": "66d6cec8-6ee9-4453-8740-363d19a6fac5",
   "metadata": {},
   "source": [
    "9. What was the median GDP per capita value in 2020?"
   ]
  },
  {
   "cell_type": "code",
   "execution_count": null,
   "id": "cee93fda-bce0-49c1-b048-3c345eb27ff8",
   "metadata": {},
   "outputs": [],
   "source": [
    "twentytwenty_gdp_df.GDP_Per_Capita.median()"
   ]
  },
  {
   "cell_type": "markdown",
   "id": "e670b108-dec0-4019-9599-b73f78e88e8e",
   "metadata": {},
   "source": [
    "10. For this question, you're going to create some visualizations to compare GDP per capita values for the years 1990, 2000, 2010, and 2020. Start by subsetting your data to just these 4 years into a new DataFrame named gdp_decades. Using this, create the following 4 plots:\r\n",
    "\t* A boxplot\r\n",
    "\t* A barplot (check out the Barplot with Seaborn section: https://www.python-graph-gallery.com/barplot/#Seaborn)\r\n",
    "\t* A scatterplot\r\n",
    "\t* A scatterplot with a trend line overlaid (see this regplot example: https://www.python-graph-gallery.com/42-custom-linear-regression-fit-seaborn)  \r\n",
    "Comment on what you observe has happened to GDP values over time and the relative strengths and weaknesses of each type of plot."
   ]
  },
  {
   "cell_type": "code",
   "execution_count": null,
   "id": "43a9c818-abfe-411a-81a1-5b2d96b345d5",
   "metadata": {},
   "outputs": [],
   "source": [
    "gdp_decades = gdp_df[gdp_df.Year.isin([1990, 2000, 2010, 2020])]\n",
    "gdp_decades\n"
   ]
  },
  {
   "cell_type": "code",
   "execution_count": null,
   "id": "250d703c-7bd7-44dc-9a9c-fca994237854",
   "metadata": {},
   "outputs": [],
   "source": [
    "sns.boxplot("
   ]
  },
  {
   "cell_type": "code",
   "execution_count": null,
   "id": "1b9d610c-ba70-4782-bd78-e4094e93766d",
   "metadata": {},
   "outputs": [],
   "source": [
    "sns.barplot(gdp_decades)"
   ]
  },
  {
   "cell_type": "code",
   "execution_count": null,
   "id": "42ffa2b1-42fb-409b-86b8-bc7e0a983891",
   "metadata": {
    "scrolled": true
   },
   "outputs": [],
   "source": [
    "sns.scatterplot(gdp_decades)"
   ]
  },
  {
   "cell_type": "markdown",
   "id": "9be54b03-b567-40d7-960d-6cf8418b5b87",
   "metadata": {},
   "source": [
    "missing trend line graph!"
   ]
  },
  {
   "cell_type": "markdown",
   "id": "7b764705-862c-4767-a5da-ea248051f839",
   "metadata": {},
   "source": [
    "11. Which country was the first to have a GDP per capita greater than $100,000?"
   ]
  },
  {
   "cell_type": "code",
   "execution_count": null,
   "id": "69943250-3028-4526-9d2d-ee6f83c986e5",
   "metadata": {},
   "outputs": [],
   "source": [
    "gdp_df.loc[gdp_df['GDP_Per_Capita'] > 100000].sort_values('Year').head(1)\n"
   ]
  },
  {
   "cell_type": "markdown",
   "id": "e5b1b706-d7d7-4ae2-8a63-987b0f2e865b",
   "metadata": {},
   "source": [
    "12. Which country had the highest GDP per capita in 2020? Create a plot showing how this country's GDP per capita has changed over the timespan of the dataset."
   ]
  },
  {
   "cell_type": "code",
   "execution_count": null,
   "id": "512f8671-36e3-4626-a1dd-006de0f65e88",
   "metadata": {},
   "outputs": [],
   "source": [
    "gdp_question_12 = gdp_df.loc[gdp_df['Year'] == 2020].sort_values('GDP_Per_Capita', ascending=False)\n",
    "gdp_question_12"
   ]
  },
  {
   "cell_type": "code",
   "execution_count": null,
   "id": "d6462350-bb83-45d9-a3c8-a1eaeb77336d",
   "metadata": {},
   "outputs": [],
   "source": [
    "lux_gdp = gdp_df.loc[gdp_df['Country'] == 'Luxembourg']\n"
   ]
  },
  {
   "cell_type": "code",
   "execution_count": null,
   "id": "2ad80b9d-d0b8-4765-a4b3-35f0201a7e02",
   "metadata": {},
   "outputs": [],
   "source": [
    "sns.lineplot(y=lux_gdp['GDP_Per_Capita'],x=lux_gdp['Year'])"
   ]
  },
  {
   "cell_type": "markdown",
   "id": "2f8f3f73-89aa-43b4-bd2e-73966371ed05",
   "metadata": {},
   "source": [
    "13. Which country had the lowest GDP per capita in 2020? Create a plot showing how this country's GDP per capita has changed over the timespan of the dataset. **Bonus question:** Is it true in general that coutries had a higher GDP per capita in 2020 than in 1990? Which countries had lower GDP per capita in 2020 than in 1990?"
   ]
  },
  {
   "cell_type": "code",
   "execution_count": null,
   "id": "d5bafb8b-c81f-486c-b518-cf18e8c22f7f",
   "metadata": {},
   "outputs": [],
   "source": [
    "gdp_question_13 = gdp_df.loc[gdp_df['Year'] == 2020].sort_values('GDP_Per_Capita')\n",
    "gdp_question_13"
   ]
  },
  {
   "cell_type": "code",
   "execution_count": null,
   "id": "083272d1-4e0e-4983-8ba7-4f876055e156",
   "metadata": {},
   "outputs": [],
   "source": [
    "burundi_gdp = gdp_df.loc[gdp_df['Country'] == 'Burundi']\n"
   ]
  },
  {
   "cell_type": "code",
   "execution_count": null,
   "id": "456f878a-b364-4028-9f09-cdb4cd6adf8c",
   "metadata": {},
   "outputs": [],
   "source": [
    "sns.lineplot(y=burundi_gdp['GDP_Per_Capita'],x=burundi_gdp['Year'])"
   ]
  },
  {
   "cell_type": "markdown",
   "id": "ba82e4ab-3bb5-4539-a290-cce5a537ba61",
   "metadata": {},
   "source": [
    "14. Read in the internet use dataset into a DataFrame named `internet_df`. You will likely get errors when doing this. Check the arguments for the read_csv function to find ones that can help correct the errors (https://pandas.pydata.org/docs/reference/api/pandas.read_csv.html) Once you are able to read it in, take per a look at the top and bottom few rows to make sure that it has been read in correctly. Also, check the datatypes of the columns."
   ]
  },
  {
   "cell_type": "code",
   "execution_count": null,
   "id": "0ff0d50a-530a-4a83-afb9-2a2195a9e8c3",
   "metadata": {},
   "outputs": [],
   "source": [
    "internet_df = pd.read_csv('../data/internet_use.csv', nrows=6083)\n",
    "internet_df"
   ]
  },
  {
   "cell_type": "markdown",
   "id": "5afc3880-d366-4532-953e-309446d804d0",
   "metadata": {},
   "source": [
    "15. Drop the `Value Footnotes` column and rename the remaining three to 'Country', 'Year', and 'Internet_Users_Pct'."
   ]
  },
  {
   "cell_type": "code",
   "execution_count": null,
   "id": "59b50d20-3088-4b5a-b579-2a733697816f",
   "metadata": {},
   "outputs": [],
   "source": [
    "internet_df = internet_df.drop(columns=['Value Footnotes'])\n",
    "internet_df"
   ]
  },
  {
   "cell_type": "code",
   "execution_count": null,
   "id": "26358b12-815b-459e-89b5-627973129799",
   "metadata": {},
   "outputs": [],
   "source": [
    "internet_df = internet_df.rename(columns={'Country or Area':'Country', 'Value':'Internet_Users_Pct'})\n",
    "internet_df"
   ]
  },
  {
   "cell_type": "markdown",
   "id": "2582b7f9-4530-4f9a-99bc-079b3fe65427",
   "metadata": {},
   "source": [
    "16. Look at the number of observations in this dataset per year. What do you notice?\n",
    "    "
   ]
  },
  {
   "cell_type": "code",
   "execution_count": null,
   "id": "c88dbe30-570e-4606-a725-51830fdb8232",
   "metadata": {},
   "outputs": [],
   "source": [
    "internet_df['Year'].value_counts().sort_index(ascending=True)"
   ]
  },
  {
   "cell_type": "markdown",
   "id": "f4c42f76-d68a-42bc-8c3b-df46e1c68208",
   "metadata": {},
   "source": [
    "17. What is the first year to have a non-zero internet users percentage value?"
   ]
  },
  {
   "cell_type": "code",
   "execution_count": null,
   "id": "da04ff5f-3afb-4f8c-8de6-1d51291489f6",
   "metadata": {},
   "outputs": [],
   "source": [
    "internet_df.loc[internet_df['Internet_Users_Pct'] > 0].sort_values(['Year'])\n"
   ]
  },
  {
   "cell_type": "markdown",
   "id": "d5808278-81c7-4f3c-a2fe-f1ba5597aefb",
   "metadata": {},
   "source": [
    "18. How does the distribution of internet users percent differ for 2000 and 2014?"
   ]
  },
  {
   "cell_type": "code",
   "execution_count": null,
   "id": "df8c6616-6cd2-46bf-b270-90ce70693ab4",
   "metadata": {},
   "outputs": [],
   "source": [
    "two_year=internet_df.loc[(internet_df['Year'] == 2000) | (internet_df['Year'] == 2014)]\n",
    "two_year"
   ]
  },
  {
   "cell_type": "code",
   "execution_count": null,
   "id": "03d6196d-4c6d-44b5-b2c3-085cbe501cb7",
   "metadata": {},
   "outputs": [],
   "source": [
    "sns.boxplot(x=two_year['Year'], y=two_year['Internet_Users_Pct'])"
   ]
  },
  {
   "cell_type": "markdown",
   "id": "5ed7d48f-a8af-4886-919a-aaa6a4b5f493",
   "metadata": {},
   "source": [
    "19. For how many countries was the percentage of internet users below 5% in 2014?"
   ]
  },
  {
   "cell_type": "code",
   "execution_count": null,
   "id": "3d6d3fb5-dd90-483d-86b4-62efefbbb75b",
   "metadata": {},
   "outputs": [],
   "source": [
    "((internet_df['Year'] == 2014)&(internet_df['Internet_Users_Pct'] < 5)).sum()"
   ]
  },
  {
   "cell_type": "markdown",
   "id": "6791ae7c-685d-4bba-afda-d8d68de0f485",
   "metadata": {},
   "source": [
    "20. Merge the two DataFrames to one. Do this in a way that keeps **all rows** from each of the two DataFrames. Call the new DataFrame `gdp_and_internet_use`. Look at the first and last few rows to confirm that it merged correctly."
   ]
  },
  {
   "cell_type": "code",
   "execution_count": null,
   "id": "bfcb389e-d182-4c93-86ab-12761a79cba2",
   "metadata": {},
   "outputs": [],
   "source": [
    "gdp_and_internet_use = pd.merge(gdp_df, internet_df, \n",
    "                                how = 'outer', on = ['Country', 'Year'])\n",
    "\n",
    "gdp_and_internet_use"
   ]
  },
  {
   "cell_type": "markdown",
   "id": "abec9da9-a465-4e42-b7bd-63fb25d8b319",
   "metadata": {},
   "source": [
    "21. Find the three countries with the highest internet users percentage in 2014. Use a seaborn FacetGrid (https://seaborn.pydata.org/generated/seaborn.FacetGrid.html) to compare how the GDP per capita has changed over time for these three countries. What do you notice?"
   ]
  },
  {
   "cell_type": "code",
   "execution_count": null,
   "id": "2029421f-50c8-449f-89d1-f05f2cac21f1",
   "metadata": {},
   "outputs": [],
   "source": [
    "gdp_and_internet_use.loc[gdp_and_internet_use['Year']==2014].nlargest(3, 'Internet_Users_Pct')"
   ]
  },
  {
   "cell_type": "code",
   "execution_count": null,
   "id": "9a00cc4a-ab6d-4f5c-899c-c783aa7d1a82",
   "metadata": {},
   "outputs": [],
   "source": [
    "sns.FacetGrid(gdp_and_internet_use)"
   ]
  },
  {
   "cell_type": "markdown",
   "id": "67a9e7f4-33cb-46d0-bb68-a73ab21f65e5",
   "metadata": {},
   "source": [
    "22. Subset `gdp_and_internet_use` to just the year 2014. Save this as a new dataframe named `gdp_and_internet_use_2014`."
   ]
  },
  {
   "cell_type": "code",
   "execution_count": null,
   "id": "6f572b32-0b78-4314-aef2-81cfb7a9ac6d",
   "metadata": {},
   "outputs": [],
   "source": [
    "gdp_and_internet_use_2014 = gdp_and_internet_use.loc[gdp_and_internet_use['Year']==2014]\n",
    "gdp_and_internet_use_2014"
   ]
  },
  {
   "cell_type": "markdown",
   "id": "764e6816-cc15-4bc9-9624-a4f3bd1cb2ec",
   "metadata": {},
   "source": [
    "23. Create a plot which compares Internet Users Percentage and GDP per Capita for the year 2014. What do you notice from this plot? If you see any unusual points, investigate them."
   ]
  },
  {
   "cell_type": "code",
   "execution_count": null,
   "id": "81b55b25-134b-49ed-855d-931242cbdfa6",
   "metadata": {},
   "outputs": [],
   "source": [
    "sns.scatterplot(x=gdp_and_internet_use_2014['Internet_Users_Pct'], y=gdp_and_internet_use_2014['GDP_Per_Capita'])"
   ]
  },
  {
   "cell_type": "code",
   "execution_count": null,
   "id": "529a47df-c72f-493a-85df-ec27b19b38ae",
   "metadata": {},
   "outputs": [],
   "source": []
  },
  {
   "cell_type": "markdown",
   "id": "bea56af5-24a0-4b03-b333-43f44d4900bd",
   "metadata": {},
   "source": [
    "24. **Stretch Question:** Use the `qcut` function from pandas (https://pandas.pydata.org/docs/reference/api/pandas.qcut.html) to divide countries in `gdp_per_capita_2014` into three groups based on their GDP per capita values. Label these groups as \"Low\", \"Medium\", and \"High\". Put these labels in a new column, named \"GDP_group\"."
   ]
  },
  {
   "cell_type": "code",
   "execution_count": null,
   "id": "c941b15d-21c1-4733-9386-6f6fd684628e",
   "metadata": {},
   "outputs": [],
   "source": []
  },
  {
   "cell_type": "markdown",
   "id": "c983fe2d-bdbf-4459-bb22-ba11f3e48016",
   "metadata": {},
   "source": [
    "25. **Stretch Question:** How does the median internet users percentage compare for the three gdp groups?"
   ]
  },
  {
   "cell_type": "code",
   "execution_count": null,
   "id": "b5c47b10-1ed8-437c-b73d-8659eebb9468",
   "metadata": {},
   "outputs": [],
   "source": []
  },
  {
   "cell_type": "code",
   "execution_count": null,
   "id": "4b20c041-f170-4d53-855b-097c5a6b5f75",
   "metadata": {},
   "outputs": [],
   "source": []
  },
  {
   "cell_type": "code",
   "execution_count": null,
   "id": "e7240fe4-737e-4505-b185-6e1c67c00ccd",
   "metadata": {},
   "outputs": [],
   "source": []
  },
  {
   "cell_type": "code",
   "execution_count": null,
   "id": "c4a1a48a-b191-4fc3-9c20-4fcaa631a5e5",
   "metadata": {},
   "outputs": [],
   "source": []
  },
  {
   "cell_type": "code",
   "execution_count": null,
   "id": "0588ddc8-b173-4364-a561-30b6818e6846",
   "metadata": {},
   "outputs": [],
   "source": []
  },
  {
   "cell_type": "code",
   "execution_count": null,
   "id": "bd61f920-8de6-481a-8961-6f9cf4751d48",
   "metadata": {},
   "outputs": [],
   "source": []
  },
  {
   "cell_type": "code",
   "execution_count": null,
   "id": "f43dfab8-f963-469c-9c7b-f663191ac09a",
   "metadata": {},
   "outputs": [],
   "source": []
  },
  {
   "cell_type": "code",
   "execution_count": null,
   "id": "3f9defe1-6406-4e90-a685-ec703aef3567",
   "metadata": {},
   "outputs": [],
   "source": []
  },
  {
   "cell_type": "code",
   "execution_count": null,
   "id": "d311ad37-5dff-4cac-b6da-c77a1dce5c91",
   "metadata": {},
   "outputs": [],
   "source": []
  },
  {
   "cell_type": "code",
   "execution_count": null,
   "id": "2f7c6f09-26d6-4bad-aa0f-7fcf734deb52",
   "metadata": {},
   "outputs": [],
   "source": []
  },
  {
   "cell_type": "code",
   "execution_count": null,
   "id": "05521d35-b573-444e-af17-37ad40f92f0c",
   "metadata": {},
   "outputs": [],
   "source": []
  },
  {
   "cell_type": "code",
   "execution_count": null,
   "id": "b36151f4-88f4-49c2-80dd-0e63ab558151",
   "metadata": {},
   "outputs": [],
   "source": []
  },
  {
   "cell_type": "code",
   "execution_count": null,
   "id": "290dc6ae-bb0d-477d-a84d-bdf0bf95f91b",
   "metadata": {},
   "outputs": [],
   "source": []
  },
  {
   "cell_type": "code",
   "execution_count": null,
   "id": "8cd77de6-d086-42c3-ba5c-4ee2d30b5e88",
   "metadata": {},
   "outputs": [],
   "source": []
  },
  {
   "cell_type": "code",
   "execution_count": null,
   "id": "bfa9ab18-2702-4765-bcd8-e28d2db58ea5",
   "metadata": {},
   "outputs": [],
   "source": []
  }
 ],
 "metadata": {
  "kernelspec": {
   "display_name": "Python 3 (ipykernel)",
   "language": "python",
   "name": "python3"
  },
  "language_info": {
   "codemirror_mode": {
    "name": "ipython",
    "version": 3
   },
   "file_extension": ".py",
   "mimetype": "text/x-python",
   "name": "python",
   "nbconvert_exporter": "python",
   "pygments_lexer": "ipython3",
   "version": "3.12.4"
  }
 },
 "nbformat": 4,
 "nbformat_minor": 5
}
